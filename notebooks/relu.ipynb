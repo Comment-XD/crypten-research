{
 "cells": [
  {
   "cell_type": "code",
   "execution_count": 28,
   "metadata": {},
   "outputs": [
    {
     "name": "stdout",
     "output_type": "stream",
     "text": [
      "Accuracy: 100.00%\n"
     ]
    }
   ],
   "source": [
    "import numpy as np\n",
    "\n",
    "np.random.seed(42)\n",
    "data = np.random.randint(-100, 100, size=10)\n",
    "\n",
    "def modified_relu(data, embed_size=5)\n",
    "\n",
    "    result = np.empty(10)\n",
    "\n",
    "    alice = np.random.randint(-100, 100, size=10)\n",
    "    bob = data - alice\n",
    "\n",
    "    alice_mask = alice >= 0\n",
    "    bob_mask = bob >= 0\n",
    "\n",
    "    false_indices = np.where(alice_mask != bob_mask)[0]\n",
    "    true_indices = np.where(alice_mask == bob_mask)[0]\n",
    "    same_result = alice_mask[true_indices] + bob_mask[true_indices]\n",
    "\n",
    "    keys = np.random.randint(0, embed_size, size=len(false_indices))\n",
    "\n",
    "    # print(keys)\n",
    "    embedded_alice = np.random.randint(-100, 100, size=(embed_size, len(false_indices)))\n",
    "    embedded_alice[keys, range(len(false_indices))] = alice[false_indices]\n",
    "\n",
    "    embedded_bob = embedded_alice + bob[false_indices]\n",
    "\n",
    "    mask = embedded_bob > 0\n",
    "    dif_result = mask[keys, range(len(false_indices))]\n",
    "    result[true_indices] = same_result\n",
    "    result[false_indices] = dif_result\n",
    "\n",
    "    print(f\"Accuracy:{((data > 0) == result).sum() * 100 / len(data) : .2f}%\")\n",
    "    \n",
    "    return result"
   ]
  }
 ],
 "metadata": {
  "kernelspec": {
   "display_name": "data_env",
   "language": "python",
   "name": "python3"
  },
  "language_info": {
   "codemirror_mode": {
    "name": "ipython",
    "version": 3
   },
   "file_extension": ".py",
   "mimetype": "text/x-python",
   "name": "python",
   "nbconvert_exporter": "python",
   "pygments_lexer": "ipython3",
   "version": "3.12.8"
  }
 },
 "nbformat": 4,
 "nbformat_minor": 2
}
