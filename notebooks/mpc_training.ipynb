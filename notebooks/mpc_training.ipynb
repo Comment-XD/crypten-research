{
 "cells": [
  {
   "cell_type": "code",
   "execution_count": 2,
   "metadata": {},
   "outputs": [],
   "source": [
    "import torch\n",
    "import crypten\n",
    "\n",
    "crypten.init()"
   ]
  },
  {
   "cell_type": "code",
   "execution_count": 3,
   "metadata": {},
   "outputs": [
    {
     "data": {
      "text/plain": [
       "MPCTensor(\n",
       "\t_tensor=tensor([ 65536, 131072, 196608])\n",
       "\tplain_text=HIDDEN\n",
       "\tptype=ptype.arithmetic\n",
       ")"
      ]
     },
     "execution_count": 3,
     "metadata": {},
     "output_type": "execute_result"
    }
   ],
   "source": [
    "a = crypten.cryptensor([1,2,3])\n",
    "b = crypten.cryptensor([1,2,3])\n",
    "\n",
    "a"
   ]
  },
  {
   "cell_type": "code",
   "execution_count": 4,
   "metadata": {},
   "outputs": [
    {
     "data": {
      "text/plain": [
       "MPCTensor(\n",
       "\t_tensor=tensor([ 65536, 131072, 196608])\n",
       "\tplain_text=HIDDEN\n",
       "\tptype=ptype.arithmetic\n",
       ")"
      ]
     },
     "execution_count": 4,
     "metadata": {},
     "output_type": "execute_result"
    }
   ],
   "source": [
    "import crypten.mpc as mpc\n",
    "\n",
    "\n",
    "a = mpc.MPCTensor([1,2,3])\n",
    "a"
   ]
  },
  {
   "cell_type": "code",
   "execution_count": 6,
   "metadata": {},
   "outputs": [
    {
     "name": "stdout",
     "output_type": "stream",
     "text": [
      "OrderedDict([('fc1.weight', tensor([[-0.1309,  0.0450,  0.4528, -0.0454],\n",
      "        [ 0.2319,  0.3383, -0.3561,  0.0178],\n",
      "        [ 0.1768, -0.4243,  0.3830, -0.4094],\n",
      "        [ 0.3077,  0.0947,  0.1158, -0.3072]])), ('fc1.bias', tensor([ 0.3522, -0.0236,  0.4168,  0.0478])), ('fc2.weight', tensor([[-0.0438, -0.1931,  0.1598,  0.2168],\n",
      "        [ 0.0042,  0.2861,  0.3185, -0.2077]])), ('fc2.bias', tensor([-0.1493,  0.4654]))])\n",
      "OrderedDict([('fc1.weight', MPCTensor(\n",
      "\t_tensor=tensor([[ -8577,   2946,  29674,  -2976],\n",
      "        [ 15199,  22169, -23334,   1167],\n",
      "        [ 11588, -27807,  25101, -26831],\n",
      "        [ 20165,   6208,   7585, -20131]])\n",
      "\tplain_text=HIDDEN\n",
      "\tptype=ptype.arithmetic\n",
      ")), ('fc1.bias', MPCTensor(\n",
      "\t_tensor=tensor([23081, -1546, 27317,  3130])\n",
      "\tplain_text=HIDDEN\n",
      "\tptype=ptype.arithmetic\n",
      ")), ('fc2.weight', MPCTensor(\n",
      "\t_tensor=tensor([[ -2870, -12655,  10472,  14208],\n",
      "        [   277,  18749,  20871, -13610]])\n",
      "\tplain_text=HIDDEN\n",
      "\tptype=ptype.arithmetic\n",
      ")), ('fc2.bias', MPCTensor(\n",
      "\t_tensor=tensor([-9785, 30502])\n",
      "\tplain_text=HIDDEN\n",
      "\tptype=ptype.arithmetic\n",
      "))])\n"
     ]
    }
   ],
   "source": [
    "import crypten.nn as c_nn\n",
    "\n",
    "class BasicLinearModel(c_nn.Module):\n",
    "    def __init__(self):\n",
    "        super().__init__()\n",
    "\n",
    "        self.fc1 = c_nn.Linear(4 , 4)\n",
    "        self.fc2 = c_nn.Linear(4 , 2)\n",
    "    \n",
    "    def forward(self, x):\n",
    "        out = self.fc1(x)\n",
    "        out = self.fc2(out)\n",
    "\n",
    "        return out\n",
    "\n",
    "basic_lm = BasicLinearModel()\n",
    "print(basic_lm.state_dict())\n",
    "\n",
    "basic_lm.encrypt()\n",
    "\n",
    "print(basic_lm.state_dict())\n"
   ]
  },
  {
   "cell_type": "code",
   "execution_count": null,
   "metadata": {},
   "outputs": [],
   "source": []
  },
  {
   "cell_type": "code",
   "execution_count": 11,
   "metadata": {},
   "outputs": [
    {
     "name": "stdout",
     "output_type": "stream",
     "text": [
      "\n",
      "Rank 1:\n",
      " OrderedDict([('fc1.weight', MPCTensor(\n",
      "\t_tensor=tensor([[ 9193766128126929858,  7435998648562898045,  2978194639409428068,\n",
      "          3091264160307227314],\n",
      "        [ 3637922814226346526,  4550751558590518337,  6253665929886393792,\n",
      "          5507971438917322666],\n",
      "        [-3629080603663076951, -6688369296969302426, -3611403768636257806,\n",
      "         -6818580741022606956],\n",
      "        [ 6914344991524009335, -9140518894752618360,  1928034181795118528,\n",
      "          6135844120986623104]])\n",
      "\tplain_text=HIDDEN\n",
      "\tptype=ptype.arithmetic\n",
      ")), ('fc1.bias', MPCTensor(\n",
      "\t_tensor=tensor([-4177940190696220180, -6375031699338444806, -2915258432312533610,\n",
      "         -539072888349598628])\n",
      "\tplain_text=HIDDEN\n",
      "\tptype=ptype.arithmetic\n",
      ")), ('fc2.weight', MPCTensor(\n",
      "\t_tensor=tensor([[ 4689715033362257508, -5431779375541915471,  -617007408401599662,\n",
      "         -8069885339622820551],\n",
      "        [-4618366722576853634, -3695145305524209521, -5526165037780514576,\n",
      "         -6894400471154215559]])\n",
      "\tplain_text=HIDDEN\n",
      "\tptype=ptype.arithmetic\n",
      ")), ('fc2.bias', MPCTensor(\n",
      "\t_tensor=tensor([ 4533234950890072919, -7737586728920585474])\n",
      "\tplain_text=HIDDEN\n",
      "\tptype=ptype.arithmetic\n",
      "))])\n",
      "\n",
      "Rank 0:\n",
      " OrderedDict([('fc1.weight', MPCTensor(\n",
      "\t_tensor=tensor([[-9193766128126952042, -7435998648562910017, -2978194639409431555,\n",
      "         -3091264160307252826],\n",
      "        [-3637922814226351341, -4550751558590508172, -6253665929886369612,\n",
      "         -5507971438917302873],\n",
      "        [ 3629080603663086421,  6688369296969314300,  3611403768636277790,\n",
      "          6818580741022574789],\n",
      "        [-6914344991524038261,  9140518894752622125, -1928034181795086606,\n",
      "         -6135844120986608886]])\n",
      "\tplain_text=HIDDEN\n",
      "\tptype=ptype.arithmetic\n",
      ")), ('fc1.bias', MPCTensor(\n",
      "\t_tensor=tensor([4177940190696212981, 6375031699338459735, 2915258432312543833,\n",
      "         539072888349580056])\n",
      "\tplain_text=HIDDEN\n",
      "\tptype=ptype.arithmetic\n",
      ")), ('fc2.weight', MPCTensor(\n",
      "\t_tensor=tensor([[-4689715033362224960,  5431779375541884556,   617007408401618034,\n",
      "          8069885339622818972],\n",
      "        [ 4618366722576861922,  3695145305524223492,  5526165037780514704,\n",
      "          6894400471154245716]])\n",
      "\tplain_text=HIDDEN\n",
      "\tptype=ptype.arithmetic\n",
      ")), ('fc2.bias', MPCTensor(\n",
      "\t_tensor=tensor([-4533234950890074949,  7737586728920616773])\n",
      "\tplain_text=HIDDEN\n",
      "\tptype=ptype.arithmetic\n",
      "))])\n"
     ]
    },
    {
     "data": {
      "text/plain": [
       "[None, None]"
      ]
     },
     "execution_count": 11,
     "metadata": {},
     "output_type": "execute_result"
    }
   ],
   "source": [
    "import crypten.communicator as comm\n",
    "# print(basic_lm.state_dict())\n",
    "\n",
    "data = crypten.rand(1, 4)\n",
    "\n",
    "lm = BasicLinearModel()\n",
    "@mpc.run_multiprocess(world_size=2)\n",
    "def inference():\n",
    "    \n",
    "    lm.encrypt()\n",
    "    lm(data)\n",
    "\n",
    "    rank = comm.get().get_rank()\n",
    "    # print(f\"Rank {rank}:\\n sum: {x_enc + x2_enc}\\nx1: {x_enc}\\nx2: {x2_enc}\\n\\n\")\n",
    "    print(f\"\\nRank {rank}:\\n {lm.state_dict()}\")\n",
    "\n",
    "\n",
    "inference()\n",
    "\n",
    "# lm.encrypt()\n",
    "# print(lm.state_dict())"
   ]
  },
  {
   "cell_type": "code",
   "execution_count": 37,
   "metadata": {},
   "outputs": [
    {
     "name": "stdout",
     "output_type": "stream",
     "text": [
      "Rank 0:\n",
      " MPCTensor(\n",
      "\t_tensor=tensor([ 2696400424640252575, -6461003361434373356,  6599021308001053197])\n",
      "\tplain_text=HIDDEN\n",
      "\tptype=ptype.arithmetic\n",
      ")Rank 1:\n",
      " MPCTensor(\n",
      "\t_tensor=tensor([-2696400424640187039,  6461003361434504428, -6599021308000856589])\n",
      "\tplain_text=HIDDEN\n",
      "\tptype=ptype.arithmetic\n",
      ")\n",
      "\n"
     ]
    }
   ],
   "source": [
    "import crypten.communicator as comm\n",
    "\n",
    "\n",
    "@mpc.run_multiprocess(world_size=2)\n",
    "def examine_arithmetic_shares():\n",
    "    x_enc = crypten.cryptensor([1, 2, 3], ptype=mpc.arithmetic)\n",
    "    # x2_enc = crypten.cryptensor([2, 3, 4], ptype=crypten.mpc.arithmetic)\n",
    "\n",
    "\n",
    "    rank = comm.get().get_rank()\n",
    "    # print(f\"Rank {rank}:\\n sum: {x_enc + x2_enc}\\nx1: {x_enc}\\nx2: {x2_enc}\\n\\n\")\n",
    "    print(f\"Rank {rank}:\\n {x_enc}\")\n",
    "    \n",
    "x = examine_arithmetic_shares()"
   ]
  },
  {
   "cell_type": "code",
   "execution_count": 13,
   "metadata": {},
   "outputs": [],
   "source": [
    "import torch.nn as nn\n",
    "import torch.nn.functional as F\n",
    "import crypten\n",
    "import crypten.mpc as mpc\n",
    "import crypten.communicator as comm\n",
    "\n",
    "\n",
    "#Define an example network\n",
    "class ExampleNet(nn.Module):\n",
    "    def __init__(self):\n",
    "        super(ExampleNet, self).__init__()\n",
    "        self.conv1 = nn.Conv2d(1, 16, kernel_size=5, padding=0)\n",
    "        self.fc1 = nn.Linear(16 * 12 * 12, 100)\n",
    "        self.fc2 = nn.Linear(100, 2) # For binary classification, final layer needs only 2 outputs\n",
    " \n",
    "    def forward(self, x):\n",
    "        out = self.conv1(x)\n",
    "        out = F.relu(out)\n",
    "        out = F.max_pool2d(out, 2)\n",
    "        out = out.view(-1, 16 * 12 * 12)\n",
    "        out = self.fc1(out)\n",
    "        out = F.relu(out)\n",
    "        out = self.fc2(out)\n",
    "        return out\n",
    "    \n",
    "crypten.common.serial.register_safe_class(ExampleNet)"
   ]
  },
  {
   "cell_type": "code",
   "execution_count": 9,
   "metadata": {},
   "outputs": [
    {
     "name": "stderr",
     "output_type": "stream",
     "text": [
      "/home/comet/anaconda3/envs/research_py/lib/python3.9/site-packages/crypten/nn/onnx_converter.py:178: UserWarning: The given NumPy array is not writable, and PyTorch does not support non-writable tensors. This means writing to this tensor will result in undefined behavior. You may want to copy the array to protect its data or make it writable before converting it to a tensor. This type of warning will be suppressed for the rest of this program. (Triggered internally at ../torch/csrc/utils/tensor_numpy.cpp:206.)\n",
      "  param = torch.from_numpy(numpy_helper.to_array(node))\n"
     ]
    },
    {
     "data": {
      "text/plain": [
       "Graph encrypted module"
      ]
     },
     "execution_count": 9,
     "metadata": {},
     "output_type": "execute_result"
    }
   ],
   "source": [
    "crypten.init()\n",
    "\n",
    "x_small = torch.rand(100, 1, 28, 28)\n",
    "y_small = torch.randint(1, (100,))\n",
    "\n",
    "# Transform labels into one-hot encoding\n",
    "label_eye = torch.eye(2)\n",
    "y_one_hot = label_eye[y_small]\n",
    "\n",
    "# Transform all data to CrypTensors\n",
    "x_train = crypten.cryptensor(x_small, src=0)\n",
    "y_train = crypten.cryptensor(y_one_hot)\n",
    "\n",
    "# Instantiate and encrypt a CrypTen model\n",
    "model_plaintext = ExampleNet()\n",
    "dummy_input = torch.empty(1, 1, 28, 28)\n",
    "model = crypten.nn.from_pytorch(model_plaintext, dummy_input)\n",
    "model.encrypt()"
   ]
  },
  {
   "cell_type": "code",
   "execution_count": 15,
   "metadata": {},
   "outputs": [
    {
     "ename": "KeyboardInterrupt",
     "evalue": "",
     "output_type": "error",
     "traceback": [
      "\u001b[0;31m---------------------------------------------------------------------------\u001b[0m",
      "\u001b[0;31mKeyboardInterrupt\u001b[0m                         Traceback (most recent call last)",
      "Cell \u001b[0;32mIn[15], line 30\u001b[0m\n\u001b[1;32m     26\u001b[0m         \u001b[38;5;66;03m# examine the loss after each epoch\u001b[39;00m\n\u001b[1;32m     27\u001b[0m         \u001b[38;5;28mprint\u001b[39m(\u001b[38;5;124m\"\u001b[39m\u001b[38;5;124mEpoch: \u001b[39m\u001b[38;5;132;01m{0:d}\u001b[39;00m\u001b[38;5;124m Loss: \u001b[39m\u001b[38;5;132;01m{1:.4f}\u001b[39;00m\u001b[38;5;124m\"\u001b[39m\u001b[38;5;241m.\u001b[39mformat(i, loss_value\u001b[38;5;241m.\u001b[39mget_plain_text()))\n\u001b[0;32m---> 30\u001b[0m \u001b[43mmain\u001b[49m\u001b[43m(\u001b[49m\u001b[43m)\u001b[49m\n",
      "File \u001b[0;32m~/anaconda3/envs/research_py/lib/python3.9/site-packages/crypten/mpc/context.py:97\u001b[0m, in \u001b[0;36mrun_multiprocess.<locals>.decorator.<locals>.wrapper\u001b[0;34m(*args, **kwargs)\u001b[0m\n\u001b[1;32m     94\u001b[0m     process\u001b[38;5;241m.\u001b[39mstart()\n\u001b[1;32m     96\u001b[0m \u001b[38;5;28;01mfor\u001b[39;00m process \u001b[38;5;129;01min\u001b[39;00m processes:\n\u001b[0;32m---> 97\u001b[0m     \u001b[43mprocess\u001b[49m\u001b[38;5;241;43m.\u001b[39;49m\u001b[43mjoin\u001b[49m\u001b[43m(\u001b[49m\u001b[43m)\u001b[49m\n\u001b[1;32m     99\u001b[0m \u001b[38;5;28;01mif\u001b[39;00m was_initialized:\n\u001b[1;32m    100\u001b[0m     crypten\u001b[38;5;241m.\u001b[39minit()\n",
      "File \u001b[0;32m~/anaconda3/envs/research_py/lib/python3.9/multiprocessing/process.py:149\u001b[0m, in \u001b[0;36mBaseProcess.join\u001b[0;34m(self, timeout)\u001b[0m\n\u001b[1;32m    147\u001b[0m \u001b[38;5;28;01massert\u001b[39;00m \u001b[38;5;28mself\u001b[39m\u001b[38;5;241m.\u001b[39m_parent_pid \u001b[38;5;241m==\u001b[39m os\u001b[38;5;241m.\u001b[39mgetpid(), \u001b[38;5;124m'\u001b[39m\u001b[38;5;124mcan only join a child process\u001b[39m\u001b[38;5;124m'\u001b[39m\n\u001b[1;32m    148\u001b[0m \u001b[38;5;28;01massert\u001b[39;00m \u001b[38;5;28mself\u001b[39m\u001b[38;5;241m.\u001b[39m_popen \u001b[38;5;129;01mis\u001b[39;00m \u001b[38;5;129;01mnot\u001b[39;00m \u001b[38;5;28;01mNone\u001b[39;00m, \u001b[38;5;124m'\u001b[39m\u001b[38;5;124mcan only join a started process\u001b[39m\u001b[38;5;124m'\u001b[39m\n\u001b[0;32m--> 149\u001b[0m res \u001b[38;5;241m=\u001b[39m \u001b[38;5;28;43mself\u001b[39;49m\u001b[38;5;241;43m.\u001b[39;49m\u001b[43m_popen\u001b[49m\u001b[38;5;241;43m.\u001b[39;49m\u001b[43mwait\u001b[49m\u001b[43m(\u001b[49m\u001b[43mtimeout\u001b[49m\u001b[43m)\u001b[49m\n\u001b[1;32m    150\u001b[0m \u001b[38;5;28;01mif\u001b[39;00m res \u001b[38;5;129;01mis\u001b[39;00m \u001b[38;5;129;01mnot\u001b[39;00m \u001b[38;5;28;01mNone\u001b[39;00m:\n\u001b[1;32m    151\u001b[0m     _children\u001b[38;5;241m.\u001b[39mdiscard(\u001b[38;5;28mself\u001b[39m)\n",
      "File \u001b[0;32m~/anaconda3/envs/research_py/lib/python3.9/multiprocessing/popen_fork.py:43\u001b[0m, in \u001b[0;36mPopen.wait\u001b[0;34m(self, timeout)\u001b[0m\n\u001b[1;32m     41\u001b[0m             \u001b[38;5;28;01mreturn\u001b[39;00m \u001b[38;5;28;01mNone\u001b[39;00m\n\u001b[1;32m     42\u001b[0m     \u001b[38;5;66;03m# This shouldn't block if wait() returned successfully.\u001b[39;00m\n\u001b[0;32m---> 43\u001b[0m     \u001b[38;5;28;01mreturn\u001b[39;00m \u001b[38;5;28;43mself\u001b[39;49m\u001b[38;5;241;43m.\u001b[39;49m\u001b[43mpoll\u001b[49m\u001b[43m(\u001b[49m\u001b[43mos\u001b[49m\u001b[38;5;241;43m.\u001b[39;49m\u001b[43mWNOHANG\u001b[49m\u001b[43m \u001b[49m\u001b[38;5;28;43;01mif\u001b[39;49;00m\u001b[43m \u001b[49m\u001b[43mtimeout\u001b[49m\u001b[43m \u001b[49m\u001b[38;5;241;43m==\u001b[39;49m\u001b[43m \u001b[49m\u001b[38;5;241;43m0.0\u001b[39;49m\u001b[43m \u001b[49m\u001b[38;5;28;43;01melse\u001b[39;49;00m\u001b[43m \u001b[49m\u001b[38;5;241;43m0\u001b[39;49m\u001b[43m)\u001b[49m\n\u001b[1;32m     44\u001b[0m \u001b[38;5;28;01mreturn\u001b[39;00m \u001b[38;5;28mself\u001b[39m\u001b[38;5;241m.\u001b[39mreturncode\n",
      "File \u001b[0;32m~/anaconda3/envs/research_py/lib/python3.9/multiprocessing/popen_fork.py:27\u001b[0m, in \u001b[0;36mPopen.poll\u001b[0;34m(self, flag)\u001b[0m\n\u001b[1;32m     25\u001b[0m \u001b[38;5;28;01mif\u001b[39;00m \u001b[38;5;28mself\u001b[39m\u001b[38;5;241m.\u001b[39mreturncode \u001b[38;5;129;01mis\u001b[39;00m \u001b[38;5;28;01mNone\u001b[39;00m:\n\u001b[1;32m     26\u001b[0m     \u001b[38;5;28;01mtry\u001b[39;00m:\n\u001b[0;32m---> 27\u001b[0m         pid, sts \u001b[38;5;241m=\u001b[39m \u001b[43mos\u001b[49m\u001b[38;5;241;43m.\u001b[39;49m\u001b[43mwaitpid\u001b[49m\u001b[43m(\u001b[49m\u001b[38;5;28;43mself\u001b[39;49m\u001b[38;5;241;43m.\u001b[39;49m\u001b[43mpid\u001b[49m\u001b[43m,\u001b[49m\u001b[43m \u001b[49m\u001b[43mflag\u001b[49m\u001b[43m)\u001b[49m\n\u001b[1;32m     28\u001b[0m     \u001b[38;5;28;01mexcept\u001b[39;00m \u001b[38;5;167;01mOSError\u001b[39;00m:\n\u001b[1;32m     29\u001b[0m         \u001b[38;5;66;03m# Child process not yet created. See #1731717\u001b[39;00m\n\u001b[1;32m     30\u001b[0m         \u001b[38;5;66;03m# e.errno == errno.ECHILD == 10\u001b[39;00m\n\u001b[1;32m     31\u001b[0m         \u001b[38;5;28;01mreturn\u001b[39;00m \u001b[38;5;28;01mNone\u001b[39;00m\n",
      "\u001b[0;31mKeyboardInterrupt\u001b[0m: "
     ]
    }
   ],
   "source": [
    "\n",
    "@mpc.run_multiprocess(world_size=2)\n",
    "def main():\n",
    "    model.train() # Change to training mode\n",
    "    loss = crypten.nn.MSELoss() # Choose loss functions\n",
    "\n",
    "    # Set parameters: learning rate, num_epochs\n",
    "    learning_rate = 0.001\n",
    "    num_epochs = 10\n",
    "\n",
    "    # Train the model: SGD on encrypted data\n",
    "    for i in range(num_epochs):\n",
    "\n",
    "        # forward pass\n",
    "        output = model(x_train)\n",
    "        loss_value = loss(output, y_train)\n",
    "        \n",
    "        # set gradients to zero\n",
    "        model.zero_grad()\n",
    "\n",
    "        # perform backward pass\n",
    "        loss_value.backward()\n",
    "\n",
    "        # update parameters\n",
    "        model.update_parameters(learning_rate) \n",
    "        \n",
    "        # examine the loss after each epoch\n",
    "        print(\"Epoch: {0:d} Loss: {1:.4f}\".format(i, loss_value.get_plain_text()))\n",
    "\n",
    "\n",
    "main()"
   ]
  }
 ],
 "metadata": {
  "kernelspec": {
   "display_name": "research_py",
   "language": "python",
   "name": "python3"
  },
  "language_info": {
   "codemirror_mode": {
    "name": "ipython",
    "version": 3
   },
   "file_extension": ".py",
   "mimetype": "text/x-python",
   "name": "python",
   "nbconvert_exporter": "python",
   "pygments_lexer": "ipython3",
   "version": "3.9.20"
  }
 },
 "nbformat": 4,
 "nbformat_minor": 2
}
